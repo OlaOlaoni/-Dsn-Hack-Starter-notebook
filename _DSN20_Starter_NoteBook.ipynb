{
  "nbformat": 4,
  "nbformat_minor": 0,
  "metadata": {
    "colab": {
      "name": "#DSN20 Starter NoteBook.ipynb",
      "provenance": [],
      "collapsed_sections": []
    },
    "kernelspec": {
      "name": "python3",
      "display_name": "Python 3"
    },
    "accelerator": "TPU"
  },
  "cells": [
    {
      "cell_type": "code",
      "metadata": {
        "id": "elsEjDk_p8JG",
        "colab_type": "code",
        "colab": {}
      },
      "source": [
        "import pandas as pd\n",
        "import numpy as np\n",
        "pd.set_option('display.max_columns', None)\n",
        "\n",
        "import seaborn as sns\n",
        "import matplotlib.pyplot as plt\n",
        "\n",
        "from sklearn.model_selection import train_test_split\n",
        "from sklearn.preprocessing import StandardScaler, RobustScaler, MinMaxScaler\n",
        "from sklearn.feature_selection import VarianceThreshold"
      ],
      "execution_count": 4,
      "outputs": []
    },
    {
      "cell_type": "code",
      "metadata": {
        "id": "5LB5n36IqR-R",
        "colab_type": "code",
        "colab": {
          "base_uri": "https://localhost:8080/",
          "height": 224
        },
        "outputId": "d804191e-ad36-4ab5-8ff3-a14048c40b96"
      },
      "source": [
        "train_data = pd.read_csv('/content/drive/My Drive/#DSN20 Hack/Train.csv')\n",
        "test_data = pd.read_csv('/content/drive/My Drive/#DSN20 Hack/Test.csv')\n",
        "train_data.head()"
      ],
      "execution_count": 5,
      "outputs": [
        {
          "output_type": "execute_result",
          "data": {
            "text/html": [
              "<div>\n",
              "<style scoped>\n",
              "    .dataframe tbody tr th:only-of-type {\n",
              "        vertical-align: middle;\n",
              "    }\n",
              "\n",
              "    .dataframe tbody tr th {\n",
              "        vertical-align: top;\n",
              "    }\n",
              "\n",
              "    .dataframe thead th {\n",
              "        text-align: right;\n",
              "    }\n",
              "</style>\n",
              "<table border=\"1\" class=\"dataframe\">\n",
              "  <thead>\n",
              "    <tr style=\"text-align: right;\">\n",
              "      <th></th>\n",
              "      <th>Applicant_ID</th>\n",
              "      <th>form_field1</th>\n",
              "      <th>form_field2</th>\n",
              "      <th>form_field3</th>\n",
              "      <th>form_field4</th>\n",
              "      <th>form_field5</th>\n",
              "      <th>form_field6</th>\n",
              "      <th>form_field7</th>\n",
              "      <th>form_field8</th>\n",
              "      <th>form_field9</th>\n",
              "      <th>form_field10</th>\n",
              "      <th>form_field11</th>\n",
              "      <th>form_field12</th>\n",
              "      <th>form_field13</th>\n",
              "      <th>form_field14</th>\n",
              "      <th>form_field15</th>\n",
              "      <th>form_field16</th>\n",
              "      <th>form_field17</th>\n",
              "      <th>form_field18</th>\n",
              "      <th>form_field19</th>\n",
              "      <th>form_field20</th>\n",
              "      <th>form_field21</th>\n",
              "      <th>form_field22</th>\n",
              "      <th>form_field23</th>\n",
              "      <th>form_field24</th>\n",
              "      <th>form_field25</th>\n",
              "      <th>form_field26</th>\n",
              "      <th>form_field27</th>\n",
              "      <th>form_field28</th>\n",
              "      <th>form_field29</th>\n",
              "      <th>form_field30</th>\n",
              "      <th>form_field31</th>\n",
              "      <th>form_field32</th>\n",
              "      <th>form_field33</th>\n",
              "      <th>form_field34</th>\n",
              "      <th>form_field35</th>\n",
              "      <th>form_field36</th>\n",
              "      <th>form_field37</th>\n",
              "      <th>form_field38</th>\n",
              "      <th>form_field39</th>\n",
              "      <th>form_field40</th>\n",
              "      <th>form_field41</th>\n",
              "      <th>form_field42</th>\n",
              "      <th>form_field43</th>\n",
              "      <th>form_field44</th>\n",
              "      <th>form_field45</th>\n",
              "      <th>form_field46</th>\n",
              "      <th>form_field47</th>\n",
              "      <th>form_field48</th>\n",
              "      <th>form_field49</th>\n",
              "      <th>form_field50</th>\n",
              "      <th>default_status</th>\n",
              "    </tr>\n",
              "  </thead>\n",
              "  <tbody>\n",
              "    <tr>\n",
              "      <th>0</th>\n",
              "      <td>Apcnt_1000000</td>\n",
              "      <td>3436.0</td>\n",
              "      <td>0.28505</td>\n",
              "      <td>1.6560</td>\n",
              "      <td>0.0</td>\n",
              "      <td>0.000</td>\n",
              "      <td>0.0</td>\n",
              "      <td>10689720.0</td>\n",
              "      <td>252072.0</td>\n",
              "      <td>4272776.0</td>\n",
              "      <td>11333126.0</td>\n",
              "      <td>4397256.0</td>\n",
              "      <td>2301324.0</td>\n",
              "      <td>7875694.0</td>\n",
              "      <td>96375139</td>\n",
              "      <td>112181765.0</td>\n",
              "      <td>1.0</td>\n",
              "      <td>1.0</td>\n",
              "      <td>1.0</td>\n",
              "      <td>3.0</td>\n",
              "      <td>3.0</td>\n",
              "      <td>134.655</td>\n",
              "      <td>NaN</td>\n",
              "      <td>NaN</td>\n",
              "      <td>134.655</td>\n",
              "      <td>4000.5</td>\n",
              "      <td>17064.0</td>\n",
              "      <td>11376.0</td>\n",
              "      <td>60.0</td>\n",
              "      <td>17064.0</td>\n",
              "      <td>5962.0</td>\n",
              "      <td>NaN</td>\n",
              "      <td>1052.0</td>\n",
              "      <td>8.0000</td>\n",
              "      <td>2.0</td>\n",
              "      <td>NaN</td>\n",
              "      <td>12.0</td>\n",
              "      <td>12.0</td>\n",
              "      <td>4.0</td>\n",
              "      <td>0.0</td>\n",
              "      <td>NaN</td>\n",
              "      <td>NaN</td>\n",
              "      <td>0.392854</td>\n",
              "      <td>2.02</td>\n",
              "      <td>0.711632</td>\n",
              "      <td>0.0</td>\n",
              "      <td>0.0</td>\n",
              "      <td>charge</td>\n",
              "      <td>NaN</td>\n",
              "      <td>1.129518</td>\n",
              "      <td>0.044335</td>\n",
              "      <td>no</td>\n",
              "    </tr>\n",
              "    <tr>\n",
              "      <th>1</th>\n",
              "      <td>Apcnt_1000004</td>\n",
              "      <td>3456.0</td>\n",
              "      <td>0.67400</td>\n",
              "      <td>0.2342</td>\n",
              "      <td>0.0</td>\n",
              "      <td>0.000</td>\n",
              "      <td>0.0</td>\n",
              "      <td>898979.0</td>\n",
              "      <td>497531.0</td>\n",
              "      <td>9073814.0</td>\n",
              "      <td>2533168.0</td>\n",
              "      <td>244292.0</td>\n",
              "      <td>3982971.0</td>\n",
              "      <td>2141445.0</td>\n",
              "      <td>28141427</td>\n",
              "      <td>45169902.0</td>\n",
              "      <td>1.0</td>\n",
              "      <td>1.0</td>\n",
              "      <td>1.0</td>\n",
              "      <td>2.0</td>\n",
              "      <td>2.0</td>\n",
              "      <td>109.230</td>\n",
              "      <td>11385.24</td>\n",
              "      <td>14584.29</td>\n",
              "      <td>86.685</td>\n",
              "      <td>4161.0</td>\n",
              "      <td>13413.0</td>\n",
              "      <td>8942.0</td>\n",
              "      <td>304.0</td>\n",
              "      <td>13413.0</td>\n",
              "      <td>5780.0</td>\n",
              "      <td>NaN</td>\n",
              "      <td>2554.0</td>\n",
              "      <td>17.5000</td>\n",
              "      <td>0.0</td>\n",
              "      <td>0.0</td>\n",
              "      <td>16.0</td>\n",
              "      <td>24.0</td>\n",
              "      <td>8.0</td>\n",
              "      <td>0.0</td>\n",
              "      <td>NaN</td>\n",
              "      <td>NaN</td>\n",
              "      <td>0.314281</td>\n",
              "      <td>8.08</td>\n",
              "      <td>0.183584</td>\n",
              "      <td>NaN</td>\n",
              "      <td>0.0</td>\n",
              "      <td>charge</td>\n",
              "      <td>349.805730</td>\n",
              "      <td>1.620483</td>\n",
              "      <td>0.322436</td>\n",
              "      <td>no</td>\n",
              "    </tr>\n",
              "    <tr>\n",
              "      <th>2</th>\n",
              "      <td>Apcnt_1000008</td>\n",
              "      <td>3276.0</td>\n",
              "      <td>0.53845</td>\n",
              "      <td>3.1510</td>\n",
              "      <td>0.0</td>\n",
              "      <td>6.282</td>\n",
              "      <td>NaN</td>\n",
              "      <td>956940.0</td>\n",
              "      <td>NaN</td>\n",
              "      <td>192944.0</td>\n",
              "      <td>1079864.0</td>\n",
              "      <td>NaN</td>\n",
              "      <td>NaN</td>\n",
              "      <td>0.0</td>\n",
              "      <td>16576457</td>\n",
              "      <td>22452691.0</td>\n",
              "      <td>NaN</td>\n",
              "      <td>NaN</td>\n",
              "      <td>NaN</td>\n",
              "      <td>0.0</td>\n",
              "      <td>0.0</td>\n",
              "      <td>NaN</td>\n",
              "      <td>NaN</td>\n",
              "      <td>NaN</td>\n",
              "      <td>NaN</td>\n",
              "      <td>1597.5</td>\n",
              "      <td>4746.0</td>\n",
              "      <td>3164.0</td>\n",
              "      <td>60.0</td>\n",
              "      <td>15696.0</td>\n",
              "      <td>NaN</td>\n",
              "      <td>14508.0</td>\n",
              "      <td>70.0</td>\n",
              "      <td>0.6666</td>\n",
              "      <td>0.0</td>\n",
              "      <td>NaN</td>\n",
              "      <td>12.0</td>\n",
              "      <td>0.0</td>\n",
              "      <td>6.0</td>\n",
              "      <td>0.0</td>\n",
              "      <td>149.6805</td>\n",
              "      <td>NaN</td>\n",
              "      <td>0.162965</td>\n",
              "      <td>18.18</td>\n",
              "      <td>0.791136</td>\n",
              "      <td>0.0</td>\n",
              "      <td>0.0</td>\n",
              "      <td>charge</td>\n",
              "      <td>NaN</td>\n",
              "      <td>1.513370</td>\n",
              "      <td>0.011640</td>\n",
              "      <td>yes</td>\n",
              "    </tr>\n",
              "    <tr>\n",
              "      <th>3</th>\n",
              "      <td>Apcnt_1000012</td>\n",
              "      <td>3372.0</td>\n",
              "      <td>0.17005</td>\n",
              "      <td>0.5050</td>\n",
              "      <td>0.0</td>\n",
              "      <td>0.000</td>\n",
              "      <td>192166.0</td>\n",
              "      <td>3044703.0</td>\n",
              "      <td>385499.0</td>\n",
              "      <td>3986472.0</td>\n",
              "      <td>3621979.0</td>\n",
              "      <td>NaN</td>\n",
              "      <td>771776.0</td>\n",
              "      <td>1186839.0</td>\n",
              "      <td>48187375</td>\n",
              "      <td>136297820.0</td>\n",
              "      <td>0.0</td>\n",
              "      <td>0.0</td>\n",
              "      <td>0.0</td>\n",
              "      <td>1.0</td>\n",
              "      <td>1.0</td>\n",
              "      <td>120.120</td>\n",
              "      <td>8580.00</td>\n",
              "      <td>0.00</td>\n",
              "      <td>85.800</td>\n",
              "      <td>1701.0</td>\n",
              "      <td>4014.0</td>\n",
              "      <td>2676.0</td>\n",
              "      <td>60.0</td>\n",
              "      <td>11679.0</td>\n",
              "      <td>NaN</td>\n",
              "      <td>NaN</td>\n",
              "      <td>522.0</td>\n",
              "      <td>7.8334</td>\n",
              "      <td>1.0</td>\n",
              "      <td>1.0</td>\n",
              "      <td>4.0</td>\n",
              "      <td>8.0</td>\n",
              "      <td>4.0</td>\n",
              "      <td>1.0</td>\n",
              "      <td>NaN</td>\n",
              "      <td>NaN</td>\n",
              "      <td>0.488884</td>\n",
              "      <td>2.02</td>\n",
              "      <td>0.685168</td>\n",
              "      <td>NaN</td>\n",
              "      <td>0.0</td>\n",
              "      <td>charge</td>\n",
              "      <td>89.940100</td>\n",
              "      <td>0.664452</td>\n",
              "      <td>0.082729</td>\n",
              "      <td>no</td>\n",
              "    </tr>\n",
              "    <tr>\n",
              "      <th>4</th>\n",
              "      <td>Apcnt_1000016</td>\n",
              "      <td>3370.0</td>\n",
              "      <td>0.77270</td>\n",
              "      <td>1.1010</td>\n",
              "      <td>0.0</td>\n",
              "      <td>0.000</td>\n",
              "      <td>1556.0</td>\n",
              "      <td>214728.0</td>\n",
              "      <td>214728.0</td>\n",
              "      <td>1284089.0</td>\n",
              "      <td>361770.0</td>\n",
              "      <td>396391.0</td>\n",
              "      <td>818456.0</td>\n",
              "      <td>511535.0</td>\n",
              "      <td>28141427</td>\n",
              "      <td>15292757.0</td>\n",
              "      <td>0.0</td>\n",
              "      <td>0.0</td>\n",
              "      <td>0.0</td>\n",
              "      <td>3.0</td>\n",
              "      <td>3.0</td>\n",
              "      <td>104.535</td>\n",
              "      <td>8360.19</td>\n",
              "      <td>10326.45</td>\n",
              "      <td>115.335</td>\n",
              "      <td>1551.0</td>\n",
              "      <td>3285.0</td>\n",
              "      <td>2190.0</td>\n",
              "      <td>60.0</td>\n",
              "      <td>19437.0</td>\n",
              "      <td>12958.0</td>\n",
              "      <td>5202.0</td>\n",
              "      <td>272.0</td>\n",
              "      <td>1.0000</td>\n",
              "      <td>0.0</td>\n",
              "      <td>0.0</td>\n",
              "      <td>24.0</td>\n",
              "      <td>2.0</td>\n",
              "      <td>24.0</td>\n",
              "      <td>0.0</td>\n",
              "      <td>150.0135</td>\n",
              "      <td>NaN</td>\n",
              "      <td>0.275000</td>\n",
              "      <td>12.12</td>\n",
              "      <td>0.438168</td>\n",
              "      <td>0.0</td>\n",
              "      <td>0.0</td>\n",
              "      <td>charge</td>\n",
              "      <td>97.887502</td>\n",
              "      <td>1.427891</td>\n",
              "      <td>0.045630</td>\n",
              "      <td>no</td>\n",
              "    </tr>\n",
              "  </tbody>\n",
              "</table>\n",
              "</div>"
            ],
            "text/plain": [
              "    Applicant_ID  form_field1  form_field2  form_field3  form_field4  \\\n",
              "0  Apcnt_1000000       3436.0      0.28505       1.6560          0.0   \n",
              "1  Apcnt_1000004       3456.0      0.67400       0.2342          0.0   \n",
              "2  Apcnt_1000008       3276.0      0.53845       3.1510          0.0   \n",
              "3  Apcnt_1000012       3372.0      0.17005       0.5050          0.0   \n",
              "4  Apcnt_1000016       3370.0      0.77270       1.1010          0.0   \n",
              "\n",
              "   form_field5  form_field6  form_field7  form_field8  form_field9  \\\n",
              "0        0.000          0.0   10689720.0     252072.0    4272776.0   \n",
              "1        0.000          0.0     898979.0     497531.0    9073814.0   \n",
              "2        6.282          NaN     956940.0          NaN     192944.0   \n",
              "3        0.000     192166.0    3044703.0     385499.0    3986472.0   \n",
              "4        0.000       1556.0     214728.0     214728.0    1284089.0   \n",
              "\n",
              "   form_field10  form_field11  form_field12  form_field13  form_field14  \\\n",
              "0    11333126.0     4397256.0     2301324.0     7875694.0      96375139   \n",
              "1     2533168.0      244292.0     3982971.0     2141445.0      28141427   \n",
              "2     1079864.0           NaN           NaN           0.0      16576457   \n",
              "3     3621979.0           NaN      771776.0     1186839.0      48187375   \n",
              "4      361770.0      396391.0      818456.0      511535.0      28141427   \n",
              "\n",
              "   form_field15  form_field16  form_field17  form_field18  form_field19  \\\n",
              "0   112181765.0           1.0           1.0           1.0           3.0   \n",
              "1    45169902.0           1.0           1.0           1.0           2.0   \n",
              "2    22452691.0           NaN           NaN           NaN           0.0   \n",
              "3   136297820.0           0.0           0.0           0.0           1.0   \n",
              "4    15292757.0           0.0           0.0           0.0           3.0   \n",
              "\n",
              "   form_field20  form_field21  form_field22  form_field23  form_field24  \\\n",
              "0           3.0       134.655           NaN           NaN       134.655   \n",
              "1           2.0       109.230      11385.24      14584.29        86.685   \n",
              "2           0.0           NaN           NaN           NaN           NaN   \n",
              "3           1.0       120.120       8580.00          0.00        85.800   \n",
              "4           3.0       104.535       8360.19      10326.45       115.335   \n",
              "\n",
              "   form_field25  form_field26  form_field27  form_field28  form_field29  \\\n",
              "0        4000.5       17064.0       11376.0          60.0       17064.0   \n",
              "1        4161.0       13413.0        8942.0         304.0       13413.0   \n",
              "2        1597.5        4746.0        3164.0          60.0       15696.0   \n",
              "3        1701.0        4014.0        2676.0          60.0       11679.0   \n",
              "4        1551.0        3285.0        2190.0          60.0       19437.0   \n",
              "\n",
              "   form_field30  form_field31  form_field32  form_field33  form_field34  \\\n",
              "0        5962.0           NaN        1052.0        8.0000           2.0   \n",
              "1        5780.0           NaN        2554.0       17.5000           0.0   \n",
              "2           NaN       14508.0          70.0        0.6666           0.0   \n",
              "3           NaN           NaN         522.0        7.8334           1.0   \n",
              "4       12958.0        5202.0         272.0        1.0000           0.0   \n",
              "\n",
              "   form_field35  form_field36  form_field37  form_field38  form_field39  \\\n",
              "0           NaN          12.0          12.0           4.0           0.0   \n",
              "1           0.0          16.0          24.0           8.0           0.0   \n",
              "2           NaN          12.0           0.0           6.0           0.0   \n",
              "3           1.0           4.0           8.0           4.0           1.0   \n",
              "4           0.0          24.0           2.0          24.0           0.0   \n",
              "\n",
              "   form_field40  form_field41  form_field42  form_field43  form_field44  \\\n",
              "0           NaN           NaN      0.392854          2.02      0.711632   \n",
              "1           NaN           NaN      0.314281          8.08      0.183584   \n",
              "2      149.6805           NaN      0.162965         18.18      0.791136   \n",
              "3           NaN           NaN      0.488884          2.02      0.685168   \n",
              "4      150.0135           NaN      0.275000         12.12      0.438168   \n",
              "\n",
              "   form_field45  form_field46 form_field47  form_field48  form_field49  \\\n",
              "0           0.0           0.0       charge           NaN      1.129518   \n",
              "1           NaN           0.0       charge    349.805730      1.620483   \n",
              "2           0.0           0.0       charge           NaN      1.513370   \n",
              "3           NaN           0.0       charge     89.940100      0.664452   \n",
              "4           0.0           0.0       charge     97.887502      1.427891   \n",
              "\n",
              "   form_field50 default_status  \n",
              "0      0.044335             no  \n",
              "1      0.322436             no  \n",
              "2      0.011640            yes  \n",
              "3      0.082729             no  \n",
              "4      0.045630             no  "
            ]
          },
          "metadata": {
            "tags": []
          },
          "execution_count": 5
        }
      ]
    },
    {
      "cell_type": "markdown",
      "metadata": {
        "id": "tix95p1xqV7D",
        "colab_type": "text"
      },
      "source": [
        "## Exploratory Data Analysis"
      ]
    },
    {
      "cell_type": "code",
      "metadata": {
        "id": "D7bZjaoSqY-Q",
        "colab_type": "code",
        "colab": {
          "base_uri": "https://localhost:8080/",
          "height": 51
        },
        "outputId": "f21b053d-fd95-4cae-f432-29bbde7b44a4"
      },
      "source": [
        "print('Train data shape', train_data.shape)\n",
        "print('Test data shape', test_data.shape)"
      ],
      "execution_count": 6,
      "outputs": [
        {
          "output_type": "stream",
          "text": [
            "Train data shape (56000, 52)\n",
            "Test data shape (24000, 51)\n"
          ],
          "name": "stdout"
        }
      ]
    },
    {
      "cell_type": "code",
      "metadata": {
        "id": "mJQR44sfqb9R",
        "colab_type": "code",
        "colab": {
          "base_uri": "https://localhost:8080/",
          "height": 68
        },
        "outputId": "b4c641ec-6e7b-4160-fbd4-5dbd02d02728"
      },
      "source": [
        "train_data.default_status.value_counts()"
      ],
      "execution_count": 7,
      "outputs": [
        {
          "output_type": "execute_result",
          "data": {
            "text/plain": [
              "no     42285\n",
              "yes    13715\n",
              "Name: default_status, dtype: int64"
            ]
          },
          "metadata": {
            "tags": []
          },
          "execution_count": 7
        }
      ]
    },
    {
      "cell_type": "markdown",
      "metadata": {
        "id": "XP1_XNb-qhNC",
        "colab_type": "text"
      },
      "source": [
        "## Fill the missing values with 0 At the basic level"
      ]
    },
    {
      "cell_type": "code",
      "metadata": {
        "id": "I-mIMFDrqcKN",
        "colab_type": "code",
        "colab": {}
      },
      "source": [
        "train_data = train_data.fillna(0.0)\n",
        "test_data = test_data.fillna(0.0)"
      ],
      "execution_count": 8,
      "outputs": []
    },
    {
      "cell_type": "markdown",
      "metadata": {
        "id": "X3QQMeeEqxyr",
        "colab_type": "text"
      },
      "source": [
        "### Check if there is any missing value"
      ]
    },
    {
      "cell_type": "code",
      "metadata": {
        "id": "n-NiyCizqcP9",
        "colab_type": "code",
        "colab": {
          "base_uri": "https://localhost:8080/",
          "height": 918
        },
        "outputId": "3b52a47d-400a-478b-903c-1a40ff062ef7"
      },
      "source": [
        "train_data.isna().sum()"
      ],
      "execution_count": 9,
      "outputs": [
        {
          "output_type": "execute_result",
          "data": {
            "text/plain": [
              "Applicant_ID      0\n",
              "form_field1       0\n",
              "form_field2       0\n",
              "form_field3       0\n",
              "form_field4       0\n",
              "form_field5       0\n",
              "form_field6       0\n",
              "form_field7       0\n",
              "form_field8       0\n",
              "form_field9       0\n",
              "form_field10      0\n",
              "form_field11      0\n",
              "form_field12      0\n",
              "form_field13      0\n",
              "form_field14      0\n",
              "form_field15      0\n",
              "form_field16      0\n",
              "form_field17      0\n",
              "form_field18      0\n",
              "form_field19      0\n",
              "form_field20      0\n",
              "form_field21      0\n",
              "form_field22      0\n",
              "form_field23      0\n",
              "form_field24      0\n",
              "form_field25      0\n",
              "form_field26      0\n",
              "form_field27      0\n",
              "form_field28      0\n",
              "form_field29      0\n",
              "form_field30      0\n",
              "form_field31      0\n",
              "form_field32      0\n",
              "form_field33      0\n",
              "form_field34      0\n",
              "form_field35      0\n",
              "form_field36      0\n",
              "form_field37      0\n",
              "form_field38      0\n",
              "form_field39      0\n",
              "form_field40      0\n",
              "form_field41      0\n",
              "form_field42      0\n",
              "form_field43      0\n",
              "form_field44      0\n",
              "form_field45      0\n",
              "form_field46      0\n",
              "form_field47      0\n",
              "form_field48      0\n",
              "form_field49      0\n",
              "form_field50      0\n",
              "default_status    0\n",
              "dtype: int64"
            ]
          },
          "metadata": {
            "tags": []
          },
          "execution_count": 9
        }
      ]
    },
    {
      "cell_type": "code",
      "metadata": {
        "id": "G_FrIRLYqchO",
        "colab_type": "code",
        "colab": {
          "base_uri": "https://localhost:8080/",
          "height": 901
        },
        "outputId": "69e3705e-d90f-4571-d645-a76972238a44"
      },
      "source": [
        "test_data.isna().sum()"
      ],
      "execution_count": 10,
      "outputs": [
        {
          "output_type": "execute_result",
          "data": {
            "text/plain": [
              "Applicant_ID    0\n",
              "form_field1     0\n",
              "form_field2     0\n",
              "form_field3     0\n",
              "form_field4     0\n",
              "form_field5     0\n",
              "form_field6     0\n",
              "form_field7     0\n",
              "form_field8     0\n",
              "form_field9     0\n",
              "form_field10    0\n",
              "form_field11    0\n",
              "form_field12    0\n",
              "form_field13    0\n",
              "form_field14    0\n",
              "form_field15    0\n",
              "form_field16    0\n",
              "form_field17    0\n",
              "form_field18    0\n",
              "form_field19    0\n",
              "form_field20    0\n",
              "form_field21    0\n",
              "form_field22    0\n",
              "form_field23    0\n",
              "form_field24    0\n",
              "form_field25    0\n",
              "form_field26    0\n",
              "form_field27    0\n",
              "form_field28    0\n",
              "form_field29    0\n",
              "form_field30    0\n",
              "form_field31    0\n",
              "form_field32    0\n",
              "form_field33    0\n",
              "form_field34    0\n",
              "form_field35    0\n",
              "form_field36    0\n",
              "form_field37    0\n",
              "form_field38    0\n",
              "form_field39    0\n",
              "form_field40    0\n",
              "form_field41    0\n",
              "form_field42    0\n",
              "form_field43    0\n",
              "form_field44    0\n",
              "form_field45    0\n",
              "form_field46    0\n",
              "form_field47    0\n",
              "form_field48    0\n",
              "form_field49    0\n",
              "form_field50    0\n",
              "dtype: int64"
            ]
          },
          "metadata": {
            "tags": []
          },
          "execution_count": 10
        }
      ]
    },
    {
      "cell_type": "markdown",
      "metadata": {
        "id": "mHIdiPbbq-95",
        "colab_type": "text"
      },
      "source": [
        "### Convert the categorical features to binary"
      ]
    },
    {
      "cell_type": "code",
      "metadata": {
        "id": "0WJvkfemqcpS",
        "colab_type": "code",
        "colab": {}
      },
      "source": [
        "from sklearn.preprocessing import LabelEncoder\n",
        "enc = LabelEncoder()\n",
        "train_data[\"form_field47\"] = enc.fit_transform(train_data[\"form_field47\"])\n",
        "train_data[\"default_status\"] = enc.fit_transform(train_data[\"default_status\"])\n",
        "\n",
        "test_data[\"form_field47\"] = enc.fit_transform(test_data[\"form_field47\"])"
      ],
      "execution_count": 20,
      "outputs": []
    },
    {
      "cell_type": "markdown",
      "metadata": {
        "id": "sxh84VoOrHrj",
        "colab_type": "text"
      },
      "source": [
        "### Determine X and **y** Lol.."
      ]
    },
    {
      "cell_type": "code",
      "metadata": {
        "id": "toPV3xEYqcmk",
        "colab_type": "code",
        "colab": {}
      },
      "source": [
        "X = train_data.drop([\"Applicant_ID\", \"default_status\"], axis =1)\n",
        "y = train_data[\"default_status\"]\n",
        "\n",
        "X_test = test_data.drop([\"Applicant_ID\"], axis = 1)"
      ],
      "execution_count": 21,
      "outputs": []
    },
    {
      "cell_type": "markdown",
      "metadata": {
        "id": "m3j33Bedrc05",
        "colab_type": "text"
      },
      "source": [
        "## Split data into train and validation sets"
      ]
    },
    {
      "cell_type": "code",
      "metadata": {
        "id": "Wwxwt8eiqcG5",
        "colab_type": "code",
        "colab": {
          "base_uri": "https://localhost:8080/",
          "height": 34
        },
        "outputId": "2951030c-e5ed-48e6-e4a8-374f722b9df1"
      },
      "source": [
        "from sklearn.model_selection import train_test_split\n",
        "\n",
        "X_train, X_val, y_train, y_val = train_test_split(X, y, test_size = 0.25, stratify = y, random_state = 0)\n",
        "\n",
        "X_train.shape, X_val.shape"
      ],
      "execution_count": 22,
      "outputs": [
        {
          "output_type": "execute_result",
          "data": {
            "text/plain": [
              "((42000, 50), (14000, 50))"
            ]
          },
          "metadata": {
            "tags": []
          },
          "execution_count": 22
        }
      ]
    },
    {
      "cell_type": "code",
      "metadata": {
        "id": "FwT9_oXBrq3J",
        "colab_type": "code",
        "colab": {
          "base_uri": "https://localhost:8080/",
          "height": 34
        },
        "outputId": "74af60ee-2bda-40df-c020-b3cafe2a31c1"
      },
      "source": [
        "filter = VarianceThreshold(0.1)\n",
        "X_train = filter.fit_transform(X_train)\n",
        "X_val = filter.transform(X_val)\n",
        "X_test = filter.transform(X_test)\n",
        "\n",
        "X_train.shape, X_val.shape, X_test.shape"
      ],
      "execution_count": 23,
      "outputs": [
        {
          "output_type": "execute_result",
          "data": {
            "text/plain": [
              "((42000, 47), (14000, 47), (24000, 47))"
            ]
          },
          "metadata": {
            "tags": []
          },
          "execution_count": 23
        }
      ]
    },
    {
      "cell_type": "code",
      "metadata": {
        "id": "vg-01hJprrEj",
        "colab_type": "code",
        "colab": {}
      },
      "source": [
        "scaler = StandardScaler()   # MinMaxScaler\n",
        "X_train = scaler.fit_transform(X_train)\n",
        "X_val = scaler.transform(X_val)\n",
        "X_test = scaler.transform(X_test)"
      ],
      "execution_count": 24,
      "outputs": []
    },
    {
      "cell_type": "markdown",
      "metadata": {
        "id": "XpLIhXD4r0-E",
        "colab_type": "text"
      },
      "source": [
        "## Model Building"
      ]
    },
    {
      "cell_type": "code",
      "metadata": {
        "id": "UiDCtRkTrrLw",
        "colab_type": "code",
        "colab": {
          "base_uri": "https://localhost:8080/",
          "height": 102
        },
        "outputId": "297a63e9-ee66-4885-efad-fac49f33bf86"
      },
      "source": [
        "from sklearn.linear_model import LogisticRegression\n",
        "\n",
        "model = LogisticRegression()\n",
        "\n",
        "model.fit(X_train,y_train)"
      ],
      "execution_count": 25,
      "outputs": [
        {
          "output_type": "execute_result",
          "data": {
            "text/plain": [
              "LogisticRegression(C=1.0, class_weight=None, dual=False, fit_intercept=True,\n",
              "                   intercept_scaling=1, l1_ratio=None, max_iter=100,\n",
              "                   multi_class='auto', n_jobs=None, penalty='l2',\n",
              "                   random_state=None, solver='lbfgs', tol=0.0001, verbose=0,\n",
              "                   warm_start=False)"
            ]
          },
          "metadata": {
            "tags": []
          },
          "execution_count": 25
        }
      ]
    },
    {
      "cell_type": "markdown",
      "metadata": {
        "id": "H3JaQoPrsAKA",
        "colab_type": "text"
      },
      "source": [
        "### Determine the AOC score"
      ]
    },
    {
      "cell_type": "code",
      "metadata": {
        "id": "1PyXExFQrrCP",
        "colab_type": "code",
        "colab": {
          "base_uri": "https://localhost:8080/",
          "height": 34
        },
        "outputId": "0e670345-691c-403e-b20b-f9e7a9113606"
      },
      "source": [
        "from sklearn.metrics import roc_auc_score\n",
        "\n",
        "prediction = model.predict(X_val)\n",
        "score = roc_auc_score(y_val, prediction)\n",
        "print(\"AUC Score on validation set: \",score)"
      ],
      "execution_count": 26,
      "outputs": [
        {
          "output_type": "stream",
          "text": [
            "AUC Score on validation set:  0.6595472727167894\n"
          ],
          "name": "stdout"
        }
      ]
    },
    {
      "cell_type": "markdown",
      "metadata": {
        "id": "brBfBtoGsHqA",
        "colab_type": "text"
      },
      "source": [
        "### One minor thing..  The dataset is imbalanced, i.e there are more No than Yes\n",
        "\n",
        "train_data.default_status.value_counts()\n"
      ]
    },
    {
      "cell_type": "markdown",
      "metadata": {
        "id": "BNNZhH3Rs9Oo",
        "colab_type": "text"
      },
      "source": [
        "##### Lets use SMOTE() to generate more train data"
      ]
    },
    {
      "cell_type": "code",
      "metadata": {
        "id": "sZ_ki39cqcEv",
        "colab_type": "code",
        "colab": {
          "base_uri": "https://localhost:8080/",
          "height": 105
        },
        "outputId": "feda1b47-0900-42ce-cfca-d6c3762266b7"
      },
      "source": [
        "from imblearn.over_sampling import SMOTE\n",
        "smote = SMOTE()"
      ],
      "execution_count": 27,
      "outputs": [
        {
          "output_type": "stream",
          "text": [
            "/usr/local/lib/python3.6/dist-packages/sklearn/externals/six.py:31: FutureWarning: The module is deprecated in version 0.21 and will be removed in version 0.23 since we've dropped support for Python 2.7. Please rely on the official version of six (https://pypi.org/project/six/).\n",
            "  \"(https://pypi.org/project/six/).\", FutureWarning)\n",
            "/usr/local/lib/python3.6/dist-packages/sklearn/utils/deprecation.py:144: FutureWarning: The sklearn.neighbors.base module is  deprecated in version 0.22 and will be removed in version 0.24. The corresponding classes / functions should instead be imported from sklearn.neighbors. Anything that cannot be imported from sklearn.neighbors is now part of the private API.\n",
            "  warnings.warn(message, FutureWarning)\n"
          ],
          "name": "stderr"
        }
      ]
    },
    {
      "cell_type": "code",
      "metadata": {
        "id": "mlAzZOLYtMiv",
        "colab_type": "code",
        "colab": {
          "base_uri": "https://localhost:8080/",
          "height": 105
        },
        "outputId": "9939bc3c-4f09-4a2e-e4a5-908d01fa90df"
      },
      "source": [
        "X_train_smote, y_train_smote = smote.fit_sample(X_train.astype('float'),y_train)\n",
        "\n",
        "\n",
        "from collections import Counter\n",
        "print(\"Before SMOTE :\" , Counter(y_train))\n",
        "print(\"After SMOTE :\" , Counter(y_train_smote))"
      ],
      "execution_count": 28,
      "outputs": [
        {
          "output_type": "stream",
          "text": [
            "/usr/local/lib/python3.6/dist-packages/sklearn/utils/deprecation.py:87: FutureWarning: Function safe_indexing is deprecated; safe_indexing is deprecated in version 0.22 and will be removed in version 0.24.\n",
            "  warnings.warn(msg, category=FutureWarning)\n"
          ],
          "name": "stderr"
        },
        {
          "output_type": "stream",
          "text": [
            "Before SMOTE : Counter({0: 31714, 1: 10286})\n",
            "After SMOTE : Counter({1: 31714, 0: 31714})\n"
          ],
          "name": "stdout"
        }
      ]
    },
    {
      "cell_type": "markdown",
      "metadata": {
        "id": "Efz1537JtYXh",
        "colab_type": "text"
      },
      "source": [
        "### Determine the AOC score after SMOTE()"
      ]
    },
    {
      "cell_type": "code",
      "metadata": {
        "id": "quTyOmjAtMp9",
        "colab_type": "code",
        "colab": {
          "base_uri": "https://localhost:8080/",
          "height": 34
        },
        "outputId": "4b5bf80c-5bc7-4e2d-c49e-f3397e29db57"
      },
      "source": [
        "model.fit(X_train_smote,y_train_smote)\n",
        "y_predict_smote = model.predict(X_val)\n",
        "\n",
        "score = roc_auc_score(y_val, y_predict_smote)\n",
        "print(\"AUC Score on validation set: \",score)"
      ],
      "execution_count": 29,
      "outputs": [
        {
          "output_type": "stream",
          "text": [
            "AUC Score on validation set:  0.7381471602304559\n"
          ],
          "name": "stdout"
        }
      ]
    },
    {
      "cell_type": "markdown",
      "metadata": {
        "id": "1Zza3gICtgys",
        "colab_type": "text"
      },
      "source": [
        "## Make a Zindi submission"
      ]
    },
    {
      "cell_type": "code",
      "metadata": {
        "id": "VR8bExrAqcCW",
        "colab_type": "code",
        "colab": {}
      },
      "source": [
        "sample_prediction = model.predict_proba(X_test)[:,1]\n",
        "\n",
        "pd.DataFrame({\"Applicant_ID\": test_data[\"Applicant_ID\"], \"default_status\": sample_prediction}).to_csv(\"starter-submission_1.csv\", index = False)"
      ],
      "execution_count": 30,
      "outputs": []
    }
  ]
}